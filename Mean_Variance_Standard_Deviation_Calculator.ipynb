{
  "nbformat": 4,
  "nbformat_minor": 0,
  "metadata": {
    "colab": {
      "name": "Mean-Variance-Standard Deviation Calculator.ipynb",
      "provenance": []
    },
    "kernelspec": {
      "name": "python3",
      "display_name": "Python 3"
    }
  },
  "cells": [
    {
      "cell_type": "markdown",
      "metadata": {
        "id": "ReKFPvYTjJcI"
      },
      "source": [
        "## Mean-Variance-Standard Deviation Calculator\n",
        "\n",
        "Create a function named calculate() in mean_var_std.py that uses Numpy to output the mean, variance, standard deviation, max, min, and sum of the rows, columns, and elements in a 3 x 3 matrix.\n",
        "\n",
        "The input of the function should be a list containing 9 digits. The function should convert the list into a 3 x 3 Numpy array, and then return a dictionary containing the mean, variance, standard deviation, max, min, and sum along both axes and for the flattened matrix."
      ]
    },
    {
      "cell_type": "code",
      "metadata": {
        "id": "WjLgkG3hizsE"
      },
      "source": [
        "import numpy as np\n",
        "\n",
        "def calculate(list):\n",
        "  if len(list) != 9:\n",
        "    raise ValueError('List must contain nine numbers.')\n",
        "  list = np.reshape(list, (3,3))\n",
        "  calculations = {}\n",
        "\n",
        "  # Calculate mean\n",
        "  mean1 = np.mean(list, axis=0)\n",
        "  mean2 = np.mean(list, axis=1)\n",
        "  mean3 = np.mean(list)\n",
        "\n",
        "  # Calculate variance\n",
        "  var1 = np.var(list, axis=0)\n",
        "  var2 = np.var(list, axis=1)\n",
        "  var3 = np.var(list)\n",
        "\n",
        "  # Calculate standart deviation\n",
        "  std1 = np.std(list, axis=0)\n",
        "  std2 = np.std(list, axis=1)\n",
        "  std3 = np.std(list)\n",
        "  \n",
        "  # Calculate max\n",
        "  max1 = np.max(list, axis=0)\n",
        "  max2 = np.max(list, axis=1)\n",
        "  max3 = np.max(list)\n",
        "\n",
        "  # Calculte min\n",
        "  min1 = np.min(list, axis=0)\n",
        "  min2 = np.min(list, axis=1)\n",
        "  min3 = np.min(list)\n",
        "\n",
        "  # Calculate sum\n",
        "  sum1 = np.sum(list, axis=0)\n",
        "  sum2 = np.sum(list, axis=1)\n",
        "  sum3 = np.sum(list)\n",
        "\n",
        "  # Lists\n",
        "  list_mean = [mean1.tolist(), mean2.tolist(), mean3.tolist()]\n",
        "  list_var = [var1.tolist(), var2.tolist(), var3.tolist()]\n",
        "  list_std = [std1.tolist(), std2.tolist(), std3.tolist()]\n",
        "  list_max = [max1.tolist(), max2.tolist(), max3.tolist()]\n",
        "  list_min = [min1.tolist(), min2.tolist(), min3.tolist()]\n",
        "  list_sum = [sum1.tolist(), sum2.tolist(), sum3.tolist()]\n",
        "\n",
        "  # Return final calculation\n",
        "  calculations = {'mean': list_mean,\n",
        "                  'variance': list_var,\n",
        "                  'standard deviation': list_std,\n",
        "                  'max': list_max,\n",
        "                  'min': list_min,\n",
        "                  'sum': list_sum}\n",
        "\n",
        "  return calculations"
      ],
      "execution_count": null,
      "outputs": []
    }
  ]
}
